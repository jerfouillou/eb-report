{
 "cells": [
  {
   "cell_type": "code",
   "execution_count": 1,
   "metadata": {},
   "outputs": [],
   "source": [
    "#IMPORT LIBRARIES\n",
    "import requests\n",
    "import pandas as pd\n",
    "import matplotlib.pyplot as plt"
   ]
  },
  {
   "cell_type": "code",
   "execution_count": 2,
   "metadata": {},
   "outputs": [],
   "source": [
    "#API CALL FUNCTION\n",
    "def replace_value(dict, value_to_find, value_to_replace):\n",
    "    # This function is to replace specified value('\\xa0') in dictionary\n",
    "    for k, v in dict.items():\n",
    "        for k1, v1 in v.items():\n",
    "            if v1 == value_to_find:\n",
    "                v[k1] = value_to_replace\n",
    "            dict[k] = v\n",
    "        return dict\n",
    "\n",
    "def dict2df(dict, cols):\n",
    "    raw_df = pd.DataFrame.from_dict(dict)\n",
    "    df = raw_df.drop(raw_df.index[0])  # first row is duplicated with columns\n",
    "    df[cols] = df[cols].apply(pd.to_numeric, errors='coerce')\n",
    "    return df\n",
    "\n",
    "def getByKeyword(id,keyword):\n",
    "    url='http://hkgaet105/project/api/'+str(id)+'/'+keyword\n",
    "    r = requests.get(url)\n",
    "    #print (r.json()[0])\n",
    "    value=r.json()[0][\"json\"]\n",
    "    raw_dict=replace_value(value,'\\xa0',\"\")\n",
    "    cols=list(raw_dict.keys())\n",
    "    df=dict2df(raw_dict,cols)\n",
    "    return df"
   ]
  },
  {
   "cell_type": "code",
   "execution_count": 5,
   "metadata": {},
   "outputs": [
    {
     "name": "stdout",
     "output_type": "stream",
     "text": [
      "hi\n"
     ]
    },
    {
     "name": "stderr",
     "output_type": "stream",
     "text": [
      "C:\\ProgramData\\Anaconda3\\lib\\site-packages\\ipykernel_launcher.py:24: SettingWithCopyWarning: \n",
      "A value is trying to be set on a copy of a slice from a DataFrame.\n",
      "Try using .loc[row_indexer,col_indexer] = value instead\n",
      "\n",
      "See the caveats in the documentation: http://pandas.pydata.org/pandas-docs/stable/indexing.html#indexing-view-versus-copy\n",
      "C:\\ProgramData\\Anaconda3\\lib\\site-packages\\ipykernel_launcher.py:28: SettingWithCopyWarning: \n",
      "A value is trying to be set on a copy of a slice from a DataFrame.\n",
      "Try using .loc[row_indexer,col_indexer] = value instead\n",
      "\n",
      "See the caveats in the documentation: http://pandas.pydata.org/pandas-docs/stable/indexing.html#indexing-view-versus-copy\n",
      "C:\\ProgramData\\Anaconda3\\lib\\site-packages\\ipykernel_launcher.py:32: SettingWithCopyWarning: \n",
      "A value is trying to be set on a copy of a slice from a DataFrame.\n",
      "Try using .loc[row_indexer,col_indexer] = value instead\n",
      "\n",
      "See the caveats in the documentation: http://pandas.pydata.org/pandas-docs/stable/indexing.html#indexing-view-versus-copy\n"
     ]
    },
    {
     "data": {
      "text/html": [
       "<div>\n",
       "<style scoped>\n",
       "    .dataframe tbody tr th:only-of-type {\n",
       "        vertical-align: middle;\n",
       "    }\n",
       "\n",
       "    .dataframe tbody tr th {\n",
       "        vertical-align: top;\n",
       "    }\n",
       "\n",
       "    .dataframe thead th {\n",
       "        text-align: right;\n",
       "    }\n",
       "</style>\n",
       "<table border=\"1\" class=\"dataframe\">\n",
       "  <thead>\n",
       "    <tr style=\"text-align: right;\">\n",
       "      <th></th>\n",
       "      <th>U-Factor no Film [W/m2-K]</th>\n",
       "    </tr>\n",
       "    <tr>\n",
       "      <th>type</th>\n",
       "      <th></th>\n",
       "    </tr>\n",
       "  </thead>\n",
       "  <tbody>\n",
       "    <tr>\n",
       "      <th>1</th>\n",
       "      <td>0.502761</td>\n",
       "    </tr>\n",
       "  </tbody>\n",
       "</table>\n",
       "</div>"
      ],
      "text/plain": [
       "      U-Factor no Film [W/m2-K]\n",
       "type                           \n",
       "1                      0.502761"
      ]
     },
     "execution_count": 5,
     "metadata": {},
     "output_type": "execute_result"
    }
   ],
   "source": [
    "#SECTION 5: Input Parmeters Summary Table: Building Envelope\n",
    "#This function assigns the 'type' of each entry in the dataframe. Maybe the boundaries can be discusses (can a roof be <180 degrees??)\n",
    "def assignCategory(row):\n",
    "    if row == 0:\n",
    "        return \"floor\"\n",
    "    elif row > 0 and row < 180:\n",
    "        return \"wall\"\n",
    "    elif row == 180:\n",
    "        return \"roof\"\n",
    "\n",
    "def assignType(row, types):\n",
    "    i = 1\n",
    "    for x in types:\n",
    "        if row == x:\n",
    "            return i\n",
    "        else:\n",
    "            i=i+1\n",
    "            \n",
    "def assignCatAndType(values):\n",
    "    values[\"category\"]=values[\"Tilt [deg]\"].apply(assignCategory)\n",
    "    #WALLS\n",
    "    wall = values[(values.category==\"wall\")]        \n",
    "    wall_u_types = wall[\"U-Factor with Film [W/m2-K]\"].unique() #Gets list of unique U-values\n",
    "    wall[\"type\"] = wall[\"U-Factor with Film [W/m2-K]\"].apply(assignType, types = wall_u_types) #Assigns a type to each row\n",
    "    #ROOFS\n",
    "    roof = values[(values.category==\"roof\")]        \n",
    "    roof_u_types = roof[\"U-Factor with Film [W/m2-K]\"].unique() #Gets list of unique U-values\n",
    "    roof[\"type\"] = roof[\"U-Factor with Film [W/m2-K]\"].apply(assignType, types = roof_u_types) #Assigns a type to each row\n",
    "    #FLOORS\n",
    "    floor = values[(values.category==\"floor\")]        \n",
    "    floor_u_types = floor[\"U-Factor with Film [W/m2-K]\"].unique() #Gets list of unique U-values\n",
    "    floor[\"type\"] = floor[\"U-Factor with Film [W/m2-K]\"].apply(assignType, types = floor_u_types) #Assigns a type to each row\n",
    "    formattedvalues=pd.concat([wall,roof,floor], axis=0)\n",
    "    return formattedvalues\n",
    "\n",
    "    #For ROOF/WALL/FLOORS above, can groupby separately for each category, THEN concatenate \n",
    "\n",
    "    \n",
    "def buildingEnvelope(id):\n",
    "    values = getByKeyword(id,\"opaque\")\n",
    "    formattedvalues = assignCatAndType(values)\n",
    "    #USE GROUPBY (SEE BELOW) TO GROUP\n",
    "    formattedvalues = formattedvalues.groupby([\"type\"])[[\"U-Factor no Film [W/m2-K]\"]].mean()#[[\"Net Area [m2]\"]].sum()\n",
    "    print(\"hi\")\n",
    "    return formattedvalues\n",
    "    \n",
    "\n",
    "buildingEnvelope(2159)\n",
    "\n",
    "\n"
   ]
  },
  {
   "cell_type": "code",
   "execution_count": null,
   "metadata": {},
   "outputs": [],
   "source": []
  }
 ],
 "metadata": {
  "kernelspec": {
   "display_name": "Python 3",
   "language": "python",
   "name": "python3"
  },
  "language_info": {
   "codemirror_mode": {
    "name": "ipython",
    "version": 3
   },
   "file_extension": ".py",
   "mimetype": "text/x-python",
   "name": "python",
   "nbconvert_exporter": "python",
   "pygments_lexer": "ipython3",
   "version": "3.6.5"
  }
 },
 "nbformat": 4,
 "nbformat_minor": 2
}
